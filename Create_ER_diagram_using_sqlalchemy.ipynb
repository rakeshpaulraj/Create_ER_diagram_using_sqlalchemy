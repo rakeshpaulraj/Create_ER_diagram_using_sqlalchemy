{
 "cells": [
  {
   "cell_type": "code",
   "execution_count": 19,
   "metadata": {
    "scrolled": true
   },
   "outputs": [
    {
     "name": "stdout",
     "output_type": "stream",
     "text": [
      "2019-10-08 08:01:28,507 INFO sqlalchemy.engine.base.Engine SELECT CAST('test plain returns' AS VARCHAR(60)) AS anon_1\n",
      "2019-10-08 08:01:28,509 INFO sqlalchemy.engine.base.Engine ()\n",
      "2019-10-08 08:01:28,511 INFO sqlalchemy.engine.base.Engine SELECT CAST('test unicode returns' AS VARCHAR(60)) AS anon_1\n",
      "2019-10-08 08:01:28,513 INFO sqlalchemy.engine.base.Engine ()\n",
      "2019-10-08 08:01:28,515 INFO sqlalchemy.engine.base.Engine PRAGMA table_info(\"dim_date\")\n",
      "2019-10-08 08:01:28,516 INFO sqlalchemy.engine.base.Engine ()\n",
      "2019-10-08 08:01:28,520 INFO sqlalchemy.engine.base.Engine PRAGMA table_info(\"stock\")\n",
      "2019-10-08 08:01:28,521 INFO sqlalchemy.engine.base.Engine ()\n",
      "2019-10-08 08:01:28,526 INFO sqlalchemy.engine.base.Engine PRAGMA table_info(\"stock_fundamental\")\n",
      "2019-10-08 08:01:28,527 INFO sqlalchemy.engine.base.Engine ()\n",
      "2019-10-08 08:01:28,530 INFO sqlalchemy.engine.base.Engine PRAGMA table_info(\"stock_price\")\n",
      "2019-10-08 08:01:28,533 INFO sqlalchemy.engine.base.Engine ()\n"
     ]
    }
   ],
   "source": [
    "from sqlalchemy_schemadisplay import create_schema_graph\n",
    "import pandas as pd\n",
    "from sqlalchemy import Table, Column, Integer, BigInteger, Float, String, MetaData, ForeignKey, Date\n",
    "metadata = MetaData()\n",
    "\n",
    "from sqlalchemy import create_engine\n",
    "engine = create_engine('sqlite:///tttx.sqlite', echo=True)\n",
    "# create your own model ....\n",
    "\n",
    "dim_date= Table('dim_date', metadata,\n",
    "    Column('date', Date, primary_key=True),\n",
    "    Column('year', Integer, nullable=False, unique=False),\n",
    "    Column('month', Integer, nullable=False, unique=False),\n",
    "    Column('day', Integer, nullable=False, unique=False),\n",
    "    Column('week', Integer, nullable=False, unique=False),\n",
    "    Column('weekday', Integer, nullable=False, unique=False),\n",
    "    Column('weekday_name', String(20), nullable=False, unique=False),\n",
    ") \n",
    "\n",
    "stock = Table('stock', metadata,\n",
    "    Column('ticker', String(10), primary_key=True),\n",
    "    Column('exchange', String(50), nullable=True, unique=False),\n",
    "    Column('name', String(100), nullable=False, unique=False),\n",
    "    Column('sector', String(100), nullable=True, unique=False),\n",
    "    Column('industry', String(100), nullable=True, unique=False),\n",
    ")  \n",
    "\n",
    "\n",
    "stock_fundamental= Table('stock_fundamental', metadata,\n",
    "    Column('ticker', String(10), ForeignKey(\"stock.ticker\")),\n",
    "    Column('indicator_name', String(50), nullable=False, unique=False),\n",
    "    Column('indicator_value', Float, nullable=True, unique=False),\n",
    "    Column('period_date', Date, ForeignKey(\"dim_date.date\")),\n",
    "    Column('period_year', Integer, nullable=False, unique=False),\n",
    "    Column('period_month', Integer, nullable=False, unique=False),\n",
    ")  \n",
    "\n",
    "stock_price= Table('stock_price', metadata,\n",
    "    Column('ticker', String(10), ForeignKey(\"stock.ticker\")),\n",
    "    Column('open_price', Float, primary_key=True),\n",
    "    Column('close_price', Float, nullable=False, unique=False),\n",
    "    Column('adj_close_price', Float, nullable=False, unique=False),\n",
    "    Column('low_price', Float, nullable=False, unique=False),\n",
    "    Column('high_price', Float, nullable=False, unique=False),\n",
    "    Column('volume', BigInteger, nullable=False, unique=False),\n",
    "    Column('period_date', Date, ForeignKey(\"dim_date.date\")),\n",
    ")  \n",
    "# add your own table ....\n",
    "metadata.create_all(engine)\n",
    "# create the pydot graph object by autoloading all tables via a bound metadata object\n",
    "graph = create_schema_graph(metadata=metadata,\n",
    "   show_datatypes=False, # The image would get nasty big if we'd show the datatypes\n",
    "   show_indexes=False, # ditto for indexes\n",
    "   rankdir='LR', # From left to right (instead of top to bottom)\n",
    "   concentrate=True # Don't try to join the relation lines together\n",
    ")\n",
    "graph.write_png('dbschema.png') # write out the file"
   ]
  }
 ],
 "metadata": {
  "kernelspec": {
   "display_name": "Python 3",
   "language": "python",
   "name": "python3"
  },
  "language_info": {
   "codemirror_mode": {
    "name": "ipython",
    "version": 3
   },
   "file_extension": ".py",
   "mimetype": "text/x-python",
   "name": "python",
   "nbconvert_exporter": "python",
   "pygments_lexer": "ipython3",
   "version": "3.7.3"
  }
 },
 "nbformat": 4,
 "nbformat_minor": 4
}
