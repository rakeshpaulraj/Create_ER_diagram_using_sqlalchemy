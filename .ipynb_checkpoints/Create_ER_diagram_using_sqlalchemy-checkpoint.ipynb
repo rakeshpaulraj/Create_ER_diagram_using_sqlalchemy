{
 "cells": [
  {
   "cell_type": "markdown",
   "metadata": {},
   "source": [
    "## Create ER diagram using sqlalchemy"
   ]
  },
  {
   "cell_type": "code",
   "execution_count": 43,
   "metadata": {
    "scrolled": true
   },
   "outputs": [],
   "source": [
    "import pandas as pd\n",
    "from sqlalchemy_schemadisplay import create_schema_graph\n",
    "from sqlalchemy import Table, Column, Integer, BigInteger, Float, String, MetaData, ForeignKey, Date\n",
    "# from sqlalchemy import create_engine\n",
    "\n",
    "# create engine\n",
    "# engine = create_engine('sqlite:///tttx.sqlite', echo=True)\n",
    "\n",
    "# Initiate Metadata\n",
    "metadata = MetaData()\n",
    "\n",
    "# create table DDLs ....\n",
    "\n",
    "dim_date= Table('dim_date', metadata,\n",
    "    Column('date', Date, primary_key=True),\n",
    "    Column('year', Integer, nullable=False, unique=False),\n",
    "    Column('month', Integer, nullable=False, unique=False),\n",
    "    Column('day', Integer, nullable=False, unique=False),\n",
    "    Column('week', Integer, nullable=False, unique=False),\n",
    "    Column('weekday', Integer, nullable=False, unique=False),\n",
    "    Column('weekday_name', String(20), nullable=False, unique=False),\n",
    ") \n",
    "\n",
    "dim_stock = Table('dim_stock', metadata,\n",
    "    Column('ticker', String(10), primary_key=True),\n",
    "    Column('exchange', String(50), nullable=True, unique=False),\n",
    "    Column('name', String(100), nullable=False, unique=False),\n",
    "    Column('sector', String(100), nullable=True, unique=False),\n",
    "    Column('industry', String(100), nullable=True, unique=False),\n",
    ")  \n",
    "\n",
    "\n",
    "stock_fundamental= Table('stock_fundamental', metadata,\n",
    "    Column('ticker', String(10), ForeignKey(\"dim_stock.ticker\")),\n",
    "    Column('indicator_name', String(50), nullable=False, unique=False),\n",
    "    Column('indicator_value', Float, nullable=True, unique=False),\n",
    "    Column('period_date', Date, ForeignKey(\"dim_date.date\")),\n",
    "    Column('period_year', Integer, nullable=False, unique=False),\n",
    "    Column('period_month', Integer, nullable=False, unique=False),\n",
    ")  \n",
    "\n",
    "stock_price= Table('stock_price', metadata,\n",
    "    Column('ticker', String(10), ForeignKey(\"dim_stock.ticker\")),\n",
    "    Column('open_price', Float, primary_key=True),\n",
    "    Column('close_price', Float, nullable=False, unique=False),\n",
    "    Column('adj_close_price', Float, nullable=False, unique=False),\n",
    "    Column('low_price', Float, nullable=False, unique=False),\n",
    "    Column('high_price', Float, nullable=False, unique=False),\n",
    "    Column('volume', BigInteger, nullable=False, unique=False),\n",
    "    Column('period_date', Date, ForeignKey(\"dim_date.date\")),\n",
    ")  \n",
    "\n",
    "# create the tables \n",
    "# metadata.create_all(engine)\n",
    "\n",
    "# create the pydot graph object by autoloading all tables via a bound metadata object\n",
    "graph = create_schema_graph(metadata=metadata,\n",
    "   show_datatypes=True, # The image would get nasty big if we'd show the datatypes\n",
    "   show_indexes=False, # ditto for indexes\n",
    "   #rankdir='LR', # From left to right (instead of top to bottom)\n",
    "   concentrate=True # Don't try to join the relation lines together\n",
    ")\n",
    "graph.write_png('dbschema.png') # write out the file"
   ]
  },
  {
   "cell_type": "markdown",
   "metadata": {},
   "source": [
    "### Display the ER Diagram generated in above step"
   ]
  },
  {
   "cell_type": "code",
   "execution_count": 44,
   "metadata": {
    "scrolled": true
   },
   "outputs": [
    {
     "data": {
      "image/png": "[encoded data removed]",
      "text/plain": [
       "<IPython.core.display.Image object>"
      ]
     },
     "execution_count": 44,
     "metadata": {},
     "output_type": "execute_result"
    }
   ],
   "source": [
    "from IPython.display import Image\n",
    "Image(filename='dbschema.png') "
   ]
  }
 ],
 "metadata": {
  "kernelspec": {
   "display_name": "Python 3",
   "language": "python",
   "name": "python3"
  },
  "language_info": {
   "codemirror_mode": {
    "name": "ipython",
    "version": 3
   },
   "file_extension": ".py",
   "mimetype": "text/x-python",
   "name": "python",
   "nbconvert_exporter": "python",
   "pygments_lexer": "ipython3",
   "version": "3.7.3"
  }
 },
 "nbformat": 4,
 "nbformat_minor": 4
}
